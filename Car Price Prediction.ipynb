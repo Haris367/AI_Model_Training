{
 "cells": [
  {
   "cell_type": "markdown",
   "id": "67102f9a",
   "metadata": {},
   "source": [
    "## Importing Tools and Data"
   ]
  },
  {
   "cell_type": "code",
   "execution_count": 1,
   "id": "2a8d8a8a",
   "metadata": {},
   "outputs": [],
   "source": [
    "import numpy as np\n",
    "import pandas as pd\n",
    "import matplotlib.pyplot as plt"
   ]
  },
  {
   "cell_type": "code",
   "execution_count": 2,
   "id": "debdd4f9",
   "metadata": {},
   "outputs": [
    {
     "data": {
      "text/html": [
       "<div>\n",
       "<style scoped>\n",
       "    .dataframe tbody tr th:only-of-type {\n",
       "        vertical-align: middle;\n",
       "    }\n",
       "\n",
       "    .dataframe tbody tr th {\n",
       "        vertical-align: top;\n",
       "    }\n",
       "\n",
       "    .dataframe thead th {\n",
       "        text-align: right;\n",
       "    }\n",
       "</style>\n",
       "<table border=\"1\" class=\"dataframe\">\n",
       "  <thead>\n",
       "    <tr style=\"text-align: right;\">\n",
       "      <th></th>\n",
       "      <th>make</th>\n",
       "      <th>model</th>\n",
       "      <th>year</th>\n",
       "      <th>mileage</th>\n",
       "      <th>price</th>\n",
       "      <th>color</th>\n",
       "      <th>state</th>\n",
       "      <th>date</th>\n",
       "    </tr>\n",
       "  </thead>\n",
       "  <tbody>\n",
       "    <tr>\n",
       "      <th>0</th>\n",
       "      <td>Chevrolet</td>\n",
       "      <td>Cruze</td>\n",
       "      <td>2011</td>\n",
       "      <td>99157</td>\n",
       "      <td>37488</td>\n",
       "      <td>white</td>\n",
       "      <td>TX</td>\n",
       "      <td>2023-09-26 23:02:01.647970</td>\n",
       "    </tr>\n",
       "    <tr>\n",
       "      <th>1</th>\n",
       "      <td>Toyota</td>\n",
       "      <td>Cruze</td>\n",
       "      <td>2017</td>\n",
       "      <td>19882</td>\n",
       "      <td>34176</td>\n",
       "      <td>red</td>\n",
       "      <td>IL</td>\n",
       "      <td>2023-08-08 23:02:01.648413</td>\n",
       "    </tr>\n",
       "    <tr>\n",
       "      <th>2</th>\n",
       "      <td>Chevrolet</td>\n",
       "      <td>Altima</td>\n",
       "      <td>2011</td>\n",
       "      <td>77718</td>\n",
       "      <td>40297</td>\n",
       "      <td>blue</td>\n",
       "      <td>CA</td>\n",
       "      <td>2023-02-25 23:02:01.648422</td>\n",
       "    </tr>\n",
       "    <tr>\n",
       "      <th>3</th>\n",
       "      <td>Nissan</td>\n",
       "      <td>Fusion</td>\n",
       "      <td>2012</td>\n",
       "      <td>83613</td>\n",
       "      <td>43492</td>\n",
       "      <td>silver</td>\n",
       "      <td>TX</td>\n",
       "      <td>2023-04-25 23:02:01.648425</td>\n",
       "    </tr>\n",
       "    <tr>\n",
       "      <th>4</th>\n",
       "      <td>Ford</td>\n",
       "      <td>Cruze</td>\n",
       "      <td>2016</td>\n",
       "      <td>95349</td>\n",
       "      <td>26655</td>\n",
       "      <td>red</td>\n",
       "      <td>NY</td>\n",
       "      <td>2023-12-14 23:02:01.648426</td>\n",
       "    </tr>\n",
       "    <tr>\n",
       "      <th>...</th>\n",
       "      <td>...</td>\n",
       "      <td>...</td>\n",
       "      <td>...</td>\n",
       "      <td>...</td>\n",
       "      <td>...</td>\n",
       "      <td>...</td>\n",
       "      <td>...</td>\n",
       "      <td>...</td>\n",
       "    </tr>\n",
       "    <tr>\n",
       "      <th>9995</th>\n",
       "      <td>Honda</td>\n",
       "      <td>Altima</td>\n",
       "      <td>2017</td>\n",
       "      <td>25154</td>\n",
       "      <td>43139</td>\n",
       "      <td>red</td>\n",
       "      <td>FL</td>\n",
       "      <td>2023-10-07 23:02:01.650165</td>\n",
       "    </tr>\n",
       "    <tr>\n",
       "      <th>9996</th>\n",
       "      <td>Chevrolet</td>\n",
       "      <td>Accord</td>\n",
       "      <td>2017</td>\n",
       "      <td>68264</td>\n",
       "      <td>15632</td>\n",
       "      <td>white</td>\n",
       "      <td>TX</td>\n",
       "      <td>2024-01-05 23:02:01.650166</td>\n",
       "    </tr>\n",
       "    <tr>\n",
       "      <th>9997</th>\n",
       "      <td>Nissan</td>\n",
       "      <td>Cruze</td>\n",
       "      <td>2016</td>\n",
       "      <td>17417</td>\n",
       "      <td>30832</td>\n",
       "      <td>silver</td>\n",
       "      <td>IL</td>\n",
       "      <td>2023-03-29 23:02:01.650168</td>\n",
       "    </tr>\n",
       "    <tr>\n",
       "      <th>9998</th>\n",
       "      <td>Honda</td>\n",
       "      <td>Accord</td>\n",
       "      <td>2011</td>\n",
       "      <td>68878</td>\n",
       "      <td>10801</td>\n",
       "      <td>blue</td>\n",
       "      <td>TX</td>\n",
       "      <td>2023-05-02 23:02:01.650170</td>\n",
       "    </tr>\n",
       "    <tr>\n",
       "      <th>9999</th>\n",
       "      <td>Chevrolet</td>\n",
       "      <td>Cruze</td>\n",
       "      <td>2010</td>\n",
       "      <td>99313</td>\n",
       "      <td>31827</td>\n",
       "      <td>black</td>\n",
       "      <td>CA</td>\n",
       "      <td>2023-08-13 23:02:01.650171</td>\n",
       "    </tr>\n",
       "  </tbody>\n",
       "</table>\n",
       "<p>10000 rows × 8 columns</p>\n",
       "</div>"
      ],
      "text/plain": [
       "           make   model  year  mileage  price   color state  \\\n",
       "0     Chevrolet   Cruze  2011    99157  37488   white    TX   \n",
       "1        Toyota   Cruze  2017    19882  34176     red    IL   \n",
       "2     Chevrolet  Altima  2011    77718  40297    blue    CA   \n",
       "3        Nissan  Fusion  2012    83613  43492  silver    TX   \n",
       "4          Ford   Cruze  2016    95349  26655     red    NY   \n",
       "...         ...     ...   ...      ...    ...     ...   ...   \n",
       "9995      Honda  Altima  2017    25154  43139     red    FL   \n",
       "9996  Chevrolet  Accord  2017    68264  15632   white    TX   \n",
       "9997     Nissan   Cruze  2016    17417  30832  silver    IL   \n",
       "9998      Honda  Accord  2011    68878  10801    blue    TX   \n",
       "9999  Chevrolet   Cruze  2010    99313  31827   black    CA   \n",
       "\n",
       "                            date  \n",
       "0     2023-09-26 23:02:01.647970  \n",
       "1     2023-08-08 23:02:01.648413  \n",
       "2     2023-02-25 23:02:01.648422  \n",
       "3     2023-04-25 23:02:01.648425  \n",
       "4     2023-12-14 23:02:01.648426  \n",
       "...                          ...  \n",
       "9995  2023-10-07 23:02:01.650165  \n",
       "9996  2024-01-05 23:02:01.650166  \n",
       "9997  2023-03-29 23:02:01.650168  \n",
       "9998  2023-05-02 23:02:01.650170  \n",
       "9999  2023-08-13 23:02:01.650171  \n",
       "\n",
       "[10000 rows x 8 columns]"
      ]
     },
     "execution_count": 2,
     "metadata": {},
     "output_type": "execute_result"
    }
   ],
   "source": [
    "df = pd.read_csv(\"car_prices.csv\")\n",
    "df"
   ]
  },
  {
   "cell_type": "markdown",
   "id": "6bc1a9cc",
   "metadata": {},
   "source": [
    "## Understanding data"
   ]
  },
  {
   "cell_type": "code",
   "execution_count": 3,
   "id": "cf00cbee",
   "metadata": {},
   "outputs": [
    {
     "name": "stdout",
     "output_type": "stream",
     "text": [
      "<class 'pandas.core.frame.DataFrame'>\n",
      "RangeIndex: 10000 entries, 0 to 9999\n",
      "Data columns (total 8 columns):\n",
      " #   Column   Non-Null Count  Dtype \n",
      "---  ------   --------------  ----- \n",
      " 0   make     10000 non-null  object\n",
      " 1   model    10000 non-null  object\n",
      " 2   year     10000 non-null  int64 \n",
      " 3   mileage  10000 non-null  int64 \n",
      " 4   price    10000 non-null  int64 \n",
      " 5   color    10000 non-null  object\n",
      " 6   state    10000 non-null  object\n",
      " 7   date     10000 non-null  object\n",
      "dtypes: int64(3), object(5)\n",
      "memory usage: 625.1+ KB\n"
     ]
    }
   ],
   "source": [
    "df.info()"
   ]
  },
  {
   "cell_type": "code",
   "execution_count": 4,
   "id": "862a71b4",
   "metadata": {},
   "outputs": [
    {
     "data": {
      "text/plain": [
       "make       0\n",
       "model      0\n",
       "year       0\n",
       "mileage    0\n",
       "price      0\n",
       "color      0\n",
       "state      0\n",
       "date       0\n",
       "dtype: int64"
      ]
     },
     "execution_count": 4,
     "metadata": {},
     "output_type": "execute_result"
    }
   ],
   "source": [
    "df.isna().sum()"
   ]
  },
  {
   "cell_type": "code",
   "execution_count": 5,
   "id": "f490952b",
   "metadata": {},
   "outputs": [
    {
     "data": {
      "text/html": [
       "<div>\n",
       "<style scoped>\n",
       "    .dataframe tbody tr th:only-of-type {\n",
       "        vertical-align: middle;\n",
       "    }\n",
       "\n",
       "    .dataframe tbody tr th {\n",
       "        vertical-align: top;\n",
       "    }\n",
       "\n",
       "    .dataframe thead th {\n",
       "        text-align: right;\n",
       "    }\n",
       "</style>\n",
       "<table border=\"1\" class=\"dataframe\">\n",
       "  <thead>\n",
       "    <tr style=\"text-align: right;\">\n",
       "      <th></th>\n",
       "      <th>year</th>\n",
       "      <th>mileage</th>\n",
       "      <th>price</th>\n",
       "    </tr>\n",
       "  </thead>\n",
       "  <tbody>\n",
       "    <tr>\n",
       "      <th>count</th>\n",
       "      <td>10000.000000</td>\n",
       "      <td>10000.00000</td>\n",
       "      <td>10000.000000</td>\n",
       "    </tr>\n",
       "    <tr>\n",
       "      <th>mean</th>\n",
       "      <td>2013.828000</td>\n",
       "      <td>55798.05900</td>\n",
       "      <td>29376.222000</td>\n",
       "    </tr>\n",
       "    <tr>\n",
       "      <th>std</th>\n",
       "      <td>2.627376</td>\n",
       "      <td>25128.85138</td>\n",
       "      <td>11660.361084</td>\n",
       "    </tr>\n",
       "    <tr>\n",
       "      <th>min</th>\n",
       "      <td>2010.000000</td>\n",
       "      <td>10284.00000</td>\n",
       "      <td>10022.000000</td>\n",
       "    </tr>\n",
       "    <tr>\n",
       "      <th>25%</th>\n",
       "      <td>2011.000000</td>\n",
       "      <td>35137.50000</td>\n",
       "      <td>19071.250000</td>\n",
       "    </tr>\n",
       "    <tr>\n",
       "      <th>50%</th>\n",
       "      <td>2014.000000</td>\n",
       "      <td>55739.50000</td>\n",
       "      <td>29418.500000</td>\n",
       "    </tr>\n",
       "    <tr>\n",
       "      <th>75%</th>\n",
       "      <td>2016.000000</td>\n",
       "      <td>77193.75000</td>\n",
       "      <td>39133.500000</td>\n",
       "    </tr>\n",
       "    <tr>\n",
       "      <th>max</th>\n",
       "      <td>2018.000000</td>\n",
       "      <td>99783.00000</td>\n",
       "      <td>49998.000000</td>\n",
       "    </tr>\n",
       "  </tbody>\n",
       "</table>\n",
       "</div>"
      ],
      "text/plain": [
       "               year      mileage         price\n",
       "count  10000.000000  10000.00000  10000.000000\n",
       "mean    2013.828000  55798.05900  29376.222000\n",
       "std        2.627376  25128.85138  11660.361084\n",
       "min     2010.000000  10284.00000  10022.000000\n",
       "25%     2011.000000  35137.50000  19071.250000\n",
       "50%     2014.000000  55739.50000  29418.500000\n",
       "75%     2016.000000  77193.75000  39133.500000\n",
       "max     2018.000000  99783.00000  49998.000000"
      ]
     },
     "execution_count": 5,
     "metadata": {},
     "output_type": "execute_result"
    }
   ],
   "source": [
    "df.describe()"
   ]
  },
  {
   "cell_type": "code",
   "execution_count": 6,
   "id": "51369bd8",
   "metadata": {},
   "outputs": [
    {
     "data": {
      "text/plain": [
       "Nissan       2240\n",
       "Chevrolet    2090\n",
       "Toyota       2060\n",
       "Ford         1870\n",
       "Honda        1740\n",
       "Name: make, dtype: int64"
      ]
     },
     "execution_count": 6,
     "metadata": {},
     "output_type": "execute_result"
    }
   ],
   "source": [
    "df['make'].value_counts()"
   ]
  },
  {
   "cell_type": "code",
   "execution_count": 7,
   "id": "d0d39063",
   "metadata": {},
   "outputs": [
    {
     "data": {
      "text/plain": [
       "Cruze     2150\n",
       "Accord    2100\n",
       "Fusion    1950\n",
       "Altima    1900\n",
       "Camry     1900\n",
       "Name: model, dtype: int64"
      ]
     },
     "execution_count": 7,
     "metadata": {},
     "output_type": "execute_result"
    }
   ],
   "source": [
    "df['model'].value_counts()"
   ]
  },
  {
   "cell_type": "code",
   "execution_count": 8,
   "id": "213efe10",
   "metadata": {},
   "outputs": [
    {
     "data": {
      "text/plain": [
       "2011    1280\n",
       "2010    1270\n",
       "2013    1140\n",
       "2014    1130\n",
       "2017    1120\n",
       "2018    1100\n",
       "2012    1070\n",
       "2015    1060\n",
       "2016     830\n",
       "Name: year, dtype: int64"
      ]
     },
     "execution_count": 8,
     "metadata": {},
     "output_type": "execute_result"
    }
   ],
   "source": [
    "df['year'].value_counts()"
   ]
  },
  {
   "cell_type": "code",
   "execution_count": 9,
   "id": "27872a54",
   "metadata": {},
   "outputs": [
    {
     "data": {
      "text/plain": [
       "silver    2190\n",
       "red       2050\n",
       "white     1940\n",
       "blue      1920\n",
       "black     1900\n",
       "Name: color, dtype: int64"
      ]
     },
     "execution_count": 9,
     "metadata": {},
     "output_type": "execute_result"
    }
   ],
   "source": [
    "df['color'].value_counts()"
   ]
  },
  {
   "cell_type": "code",
   "execution_count": 10,
   "id": "6e18ab4c",
   "metadata": {},
   "outputs": [
    {
     "data": {
      "text/plain": [
       "CA    2140\n",
       "TX    2080\n",
       "FL    2030\n",
       "NY    2000\n",
       "IL    1750\n",
       "Name: state, dtype: int64"
      ]
     },
     "execution_count": 10,
     "metadata": {},
     "output_type": "execute_result"
    }
   ],
   "source": [
    "df['state'].value_counts()"
   ]
  },
  {
   "cell_type": "code",
   "execution_count": 11,
   "id": "2c80cc47",
   "metadata": {},
   "outputs": [
    {
     "data": {
      "text/html": [
       "<div>\n",
       "<style scoped>\n",
       "    .dataframe tbody tr th:only-of-type {\n",
       "        vertical-align: middle;\n",
       "    }\n",
       "\n",
       "    .dataframe tbody tr th {\n",
       "        vertical-align: top;\n",
       "    }\n",
       "\n",
       "    .dataframe thead th {\n",
       "        text-align: right;\n",
       "    }\n",
       "</style>\n",
       "<table border=\"1\" class=\"dataframe\">\n",
       "  <thead>\n",
       "    <tr style=\"text-align: right;\">\n",
       "      <th></th>\n",
       "      <th>make</th>\n",
       "      <th>model</th>\n",
       "      <th>year</th>\n",
       "      <th>mileage</th>\n",
       "      <th>price</th>\n",
       "      <th>color</th>\n",
       "      <th>state</th>\n",
       "    </tr>\n",
       "  </thead>\n",
       "  <tbody>\n",
       "    <tr>\n",
       "      <th>0</th>\n",
       "      <td>Chevrolet</td>\n",
       "      <td>Cruze</td>\n",
       "      <td>2011</td>\n",
       "      <td>99157</td>\n",
       "      <td>37488</td>\n",
       "      <td>white</td>\n",
       "      <td>TX</td>\n",
       "    </tr>\n",
       "    <tr>\n",
       "      <th>1</th>\n",
       "      <td>Toyota</td>\n",
       "      <td>Cruze</td>\n",
       "      <td>2017</td>\n",
       "      <td>19882</td>\n",
       "      <td>34176</td>\n",
       "      <td>red</td>\n",
       "      <td>IL</td>\n",
       "    </tr>\n",
       "    <tr>\n",
       "      <th>2</th>\n",
       "      <td>Chevrolet</td>\n",
       "      <td>Altima</td>\n",
       "      <td>2011</td>\n",
       "      <td>77718</td>\n",
       "      <td>40297</td>\n",
       "      <td>blue</td>\n",
       "      <td>CA</td>\n",
       "    </tr>\n",
       "    <tr>\n",
       "      <th>3</th>\n",
       "      <td>Nissan</td>\n",
       "      <td>Fusion</td>\n",
       "      <td>2012</td>\n",
       "      <td>83613</td>\n",
       "      <td>43492</td>\n",
       "      <td>silver</td>\n",
       "      <td>TX</td>\n",
       "    </tr>\n",
       "    <tr>\n",
       "      <th>4</th>\n",
       "      <td>Ford</td>\n",
       "      <td>Cruze</td>\n",
       "      <td>2016</td>\n",
       "      <td>95349</td>\n",
       "      <td>26655</td>\n",
       "      <td>red</td>\n",
       "      <td>NY</td>\n",
       "    </tr>\n",
       "    <tr>\n",
       "      <th>...</th>\n",
       "      <td>...</td>\n",
       "      <td>...</td>\n",
       "      <td>...</td>\n",
       "      <td>...</td>\n",
       "      <td>...</td>\n",
       "      <td>...</td>\n",
       "      <td>...</td>\n",
       "    </tr>\n",
       "    <tr>\n",
       "      <th>9995</th>\n",
       "      <td>Honda</td>\n",
       "      <td>Altima</td>\n",
       "      <td>2017</td>\n",
       "      <td>25154</td>\n",
       "      <td>43139</td>\n",
       "      <td>red</td>\n",
       "      <td>FL</td>\n",
       "    </tr>\n",
       "    <tr>\n",
       "      <th>9996</th>\n",
       "      <td>Chevrolet</td>\n",
       "      <td>Accord</td>\n",
       "      <td>2017</td>\n",
       "      <td>68264</td>\n",
       "      <td>15632</td>\n",
       "      <td>white</td>\n",
       "      <td>TX</td>\n",
       "    </tr>\n",
       "    <tr>\n",
       "      <th>9997</th>\n",
       "      <td>Nissan</td>\n",
       "      <td>Cruze</td>\n",
       "      <td>2016</td>\n",
       "      <td>17417</td>\n",
       "      <td>30832</td>\n",
       "      <td>silver</td>\n",
       "      <td>IL</td>\n",
       "    </tr>\n",
       "    <tr>\n",
       "      <th>9998</th>\n",
       "      <td>Honda</td>\n",
       "      <td>Accord</td>\n",
       "      <td>2011</td>\n",
       "      <td>68878</td>\n",
       "      <td>10801</td>\n",
       "      <td>blue</td>\n",
       "      <td>TX</td>\n",
       "    </tr>\n",
       "    <tr>\n",
       "      <th>9999</th>\n",
       "      <td>Chevrolet</td>\n",
       "      <td>Cruze</td>\n",
       "      <td>2010</td>\n",
       "      <td>99313</td>\n",
       "      <td>31827</td>\n",
       "      <td>black</td>\n",
       "      <td>CA</td>\n",
       "    </tr>\n",
       "  </tbody>\n",
       "</table>\n",
       "<p>10000 rows × 7 columns</p>\n",
       "</div>"
      ],
      "text/plain": [
       "           make   model  year  mileage  price   color state\n",
       "0     Chevrolet   Cruze  2011    99157  37488   white    TX\n",
       "1        Toyota   Cruze  2017    19882  34176     red    IL\n",
       "2     Chevrolet  Altima  2011    77718  40297    blue    CA\n",
       "3        Nissan  Fusion  2012    83613  43492  silver    TX\n",
       "4          Ford   Cruze  2016    95349  26655     red    NY\n",
       "...         ...     ...   ...      ...    ...     ...   ...\n",
       "9995      Honda  Altima  2017    25154  43139     red    FL\n",
       "9996  Chevrolet  Accord  2017    68264  15632   white    TX\n",
       "9997     Nissan   Cruze  2016    17417  30832  silver    IL\n",
       "9998      Honda  Accord  2011    68878  10801    blue    TX\n",
       "9999  Chevrolet   Cruze  2010    99313  31827   black    CA\n",
       "\n",
       "[10000 rows x 7 columns]"
      ]
     },
     "execution_count": 11,
     "metadata": {},
     "output_type": "execute_result"
    }
   ],
   "source": [
    "# Dropping date column because it shows when was data added to the dateset.\n",
    "df = df.drop(\"date\", axis=1)\n",
    "df"
   ]
  },
  {
   "cell_type": "code",
   "execution_count": 12,
   "id": "48d8962e",
   "metadata": {},
   "outputs": [
    {
     "name": "stdout",
     "output_type": "stream",
     "text": [
      "<class 'pandas.core.frame.DataFrame'>\n",
      "RangeIndex: 10000 entries, 0 to 9999\n",
      "Data columns (total 7 columns):\n",
      " #   Column   Non-Null Count  Dtype \n",
      "---  ------   --------------  ----- \n",
      " 0   make     10000 non-null  object\n",
      " 1   model    10000 non-null  object\n",
      " 2   year     10000 non-null  int64 \n",
      " 3   mileage  10000 non-null  int64 \n",
      " 4   price    10000 non-null  int64 \n",
      " 5   color    10000 non-null  object\n",
      " 6   state    10000 non-null  object\n",
      "dtypes: int64(3), object(4)\n",
      "memory usage: 547.0+ KB\n"
     ]
    }
   ],
   "source": [
    "df.info()"
   ]
  },
  {
   "cell_type": "code",
   "execution_count": 13,
   "id": "5b93de7f",
   "metadata": {},
   "outputs": [
    {
     "name": "stdout",
     "output_type": "stream",
     "text": [
      "Price Max:  49998\n",
      "Price Min:  10022\n"
     ]
    }
   ],
   "source": [
    "print(\"Price Max: \", df['price'].max())\n",
    "print(\"Price Min: \", df['price'].min())"
   ]
  },
  {
   "cell_type": "code",
   "execution_count": 14,
   "id": "45718800",
   "metadata": {},
   "outputs": [
    {
     "data": {
      "text/html": [
       "<div>\n",
       "<style scoped>\n",
       "    .dataframe tbody tr th:only-of-type {\n",
       "        vertical-align: middle;\n",
       "    }\n",
       "\n",
       "    .dataframe tbody tr th {\n",
       "        vertical-align: top;\n",
       "    }\n",
       "\n",
       "    .dataframe thead th {\n",
       "        text-align: right;\n",
       "    }\n",
       "</style>\n",
       "<table border=\"1\" class=\"dataframe\">\n",
       "  <thead>\n",
       "    <tr style=\"text-align: right;\">\n",
       "      <th></th>\n",
       "      <th>make</th>\n",
       "      <th>model</th>\n",
       "      <th>year</th>\n",
       "      <th>mileage</th>\n",
       "      <th>color</th>\n",
       "      <th>state</th>\n",
       "      <th>price_in_thousands</th>\n",
       "    </tr>\n",
       "  </thead>\n",
       "  <tbody>\n",
       "    <tr>\n",
       "      <th>0</th>\n",
       "      <td>Chevrolet</td>\n",
       "      <td>Cruze</td>\n",
       "      <td>2011</td>\n",
       "      <td>99157</td>\n",
       "      <td>white</td>\n",
       "      <td>TX</td>\n",
       "      <td>37.488</td>\n",
       "    </tr>\n",
       "    <tr>\n",
       "      <th>1</th>\n",
       "      <td>Toyota</td>\n",
       "      <td>Cruze</td>\n",
       "      <td>2017</td>\n",
       "      <td>19882</td>\n",
       "      <td>red</td>\n",
       "      <td>IL</td>\n",
       "      <td>34.176</td>\n",
       "    </tr>\n",
       "    <tr>\n",
       "      <th>2</th>\n",
       "      <td>Chevrolet</td>\n",
       "      <td>Altima</td>\n",
       "      <td>2011</td>\n",
       "      <td>77718</td>\n",
       "      <td>blue</td>\n",
       "      <td>CA</td>\n",
       "      <td>40.297</td>\n",
       "    </tr>\n",
       "    <tr>\n",
       "      <th>3</th>\n",
       "      <td>Nissan</td>\n",
       "      <td>Fusion</td>\n",
       "      <td>2012</td>\n",
       "      <td>83613</td>\n",
       "      <td>silver</td>\n",
       "      <td>TX</td>\n",
       "      <td>43.492</td>\n",
       "    </tr>\n",
       "    <tr>\n",
       "      <th>4</th>\n",
       "      <td>Ford</td>\n",
       "      <td>Cruze</td>\n",
       "      <td>2016</td>\n",
       "      <td>95349</td>\n",
       "      <td>red</td>\n",
       "      <td>NY</td>\n",
       "      <td>26.655</td>\n",
       "    </tr>\n",
       "    <tr>\n",
       "      <th>...</th>\n",
       "      <td>...</td>\n",
       "      <td>...</td>\n",
       "      <td>...</td>\n",
       "      <td>...</td>\n",
       "      <td>...</td>\n",
       "      <td>...</td>\n",
       "      <td>...</td>\n",
       "    </tr>\n",
       "    <tr>\n",
       "      <th>9995</th>\n",
       "      <td>Honda</td>\n",
       "      <td>Altima</td>\n",
       "      <td>2017</td>\n",
       "      <td>25154</td>\n",
       "      <td>red</td>\n",
       "      <td>FL</td>\n",
       "      <td>43.139</td>\n",
       "    </tr>\n",
       "    <tr>\n",
       "      <th>9996</th>\n",
       "      <td>Chevrolet</td>\n",
       "      <td>Accord</td>\n",
       "      <td>2017</td>\n",
       "      <td>68264</td>\n",
       "      <td>white</td>\n",
       "      <td>TX</td>\n",
       "      <td>15.632</td>\n",
       "    </tr>\n",
       "    <tr>\n",
       "      <th>9997</th>\n",
       "      <td>Nissan</td>\n",
       "      <td>Cruze</td>\n",
       "      <td>2016</td>\n",
       "      <td>17417</td>\n",
       "      <td>silver</td>\n",
       "      <td>IL</td>\n",
       "      <td>30.832</td>\n",
       "    </tr>\n",
       "    <tr>\n",
       "      <th>9998</th>\n",
       "      <td>Honda</td>\n",
       "      <td>Accord</td>\n",
       "      <td>2011</td>\n",
       "      <td>68878</td>\n",
       "      <td>blue</td>\n",
       "      <td>TX</td>\n",
       "      <td>10.801</td>\n",
       "    </tr>\n",
       "    <tr>\n",
       "      <th>9999</th>\n",
       "      <td>Chevrolet</td>\n",
       "      <td>Cruze</td>\n",
       "      <td>2010</td>\n",
       "      <td>99313</td>\n",
       "      <td>black</td>\n",
       "      <td>CA</td>\n",
       "      <td>31.827</td>\n",
       "    </tr>\n",
       "  </tbody>\n",
       "</table>\n",
       "<p>10000 rows × 7 columns</p>\n",
       "</div>"
      ],
      "text/plain": [
       "           make   model  year  mileage   color state  price_in_thousands\n",
       "0     Chevrolet   Cruze  2011    99157   white    TX              37.488\n",
       "1        Toyota   Cruze  2017    19882     red    IL              34.176\n",
       "2     Chevrolet  Altima  2011    77718    blue    CA              40.297\n",
       "3        Nissan  Fusion  2012    83613  silver    TX              43.492\n",
       "4          Ford   Cruze  2016    95349     red    NY              26.655\n",
       "...         ...     ...   ...      ...     ...   ...                 ...\n",
       "9995      Honda  Altima  2017    25154     red    FL              43.139\n",
       "9996  Chevrolet  Accord  2017    68264   white    TX              15.632\n",
       "9997     Nissan   Cruze  2016    17417  silver    IL              30.832\n",
       "9998      Honda  Accord  2011    68878    blue    TX              10.801\n",
       "9999  Chevrolet   Cruze  2010    99313   black    CA              31.827\n",
       "\n",
       "[10000 rows x 7 columns]"
      ]
     },
     "execution_count": 14,
     "metadata": {},
     "output_type": "execute_result"
    }
   ],
   "source": [
    "# Converting price in thousands\n",
    "df['price_in_thousands'] = df['price'] / 1000\n",
    "df.drop('price',axis=1)"
   ]
  },
  {
   "cell_type": "markdown",
   "id": "6b793f84",
   "metadata": {},
   "source": [
    "## Converting Object dtype to Categorical"
   ]
  },
  {
   "cell_type": "code",
   "execution_count": 15,
   "id": "677c3f78",
   "metadata": {},
   "outputs": [],
   "source": [
    "for columns, rows in df.items():\n",
    "    if not pd.api.types.is_numeric_dtype(rows):\n",
    "        df[columns] = rows.astype('category').cat.as_ordered()"
   ]
  },
  {
   "cell_type": "code",
   "execution_count": 16,
   "id": "4a563c54",
   "metadata": {},
   "outputs": [
    {
     "name": "stdout",
     "output_type": "stream",
     "text": [
      "<class 'pandas.core.frame.DataFrame'>\n",
      "RangeIndex: 10000 entries, 0 to 9999\n",
      "Data columns (total 8 columns):\n",
      " #   Column              Non-Null Count  Dtype   \n",
      "---  ------              --------------  -----   \n",
      " 0   make                10000 non-null  category\n",
      " 1   model               10000 non-null  category\n",
      " 2   year                10000 non-null  int64   \n",
      " 3   mileage             10000 non-null  int64   \n",
      " 4   price               10000 non-null  int64   \n",
      " 5   color               10000 non-null  category\n",
      " 6   state               10000 non-null  category\n",
      " 7   price_in_thousands  10000 non-null  float64 \n",
      "dtypes: category(4), float64(1), int64(3)\n",
      "memory usage: 352.5 KB\n"
     ]
    }
   ],
   "source": [
    "df.info()"
   ]
  },
  {
   "cell_type": "markdown",
   "id": "dd802d66",
   "metadata": {},
   "source": [
    "## Converting Categorical dtype to Integers"
   ]
  },
  {
   "cell_type": "code",
   "execution_count": 17,
   "id": "dca49774",
   "metadata": {},
   "outputs": [
    {
     "name": "stdout",
     "output_type": "stream",
     "text": [
      "<class 'pandas.core.frame.DataFrame'>\n",
      "RangeIndex: 10000 entries, 0 to 9999\n",
      "Data columns (total 24 columns):\n",
      " #   Column              Non-Null Count  Dtype  \n",
      "---  ------              --------------  -----  \n",
      " 0   year                10000 non-null  int64  \n",
      " 1   mileage             10000 non-null  int64  \n",
      " 2   price               10000 non-null  int64  \n",
      " 3   price_in_thousands  10000 non-null  float64\n",
      " 4   make_Chevrolet      10000 non-null  uint8  \n",
      " 5   make_Ford           10000 non-null  uint8  \n",
      " 6   make_Honda          10000 non-null  uint8  \n",
      " 7   make_Nissan         10000 non-null  uint8  \n",
      " 8   make_Toyota         10000 non-null  uint8  \n",
      " 9   model_Accord        10000 non-null  uint8  \n",
      " 10  model_Altima        10000 non-null  uint8  \n",
      " 11  model_Camry         10000 non-null  uint8  \n",
      " 12  model_Cruze         10000 non-null  uint8  \n",
      " 13  model_Fusion        10000 non-null  uint8  \n",
      " 14  color_black         10000 non-null  uint8  \n",
      " 15  color_blue          10000 non-null  uint8  \n",
      " 16  color_red           10000 non-null  uint8  \n",
      " 17  color_silver        10000 non-null  uint8  \n",
      " 18  color_white         10000 non-null  uint8  \n",
      " 19  state_CA            10000 non-null  uint8  \n",
      " 20  state_FL            10000 non-null  uint8  \n",
      " 21  state_IL            10000 non-null  uint8  \n",
      " 22  state_NY            10000 non-null  uint8  \n",
      " 23  state_TX            10000 non-null  uint8  \n",
      "dtypes: float64(1), int64(3), uint8(20)\n",
      "memory usage: 507.9 KB\n"
     ]
    }
   ],
   "source": [
    "categories = ['make', 'model', 'color', 'state']\n",
    "prefix = ['make', 'model', 'color', 'state']\n",
    "\n",
    "for column_name, prefix_name in zip(categories, prefix):\n",
    "    one_hot = pd.get_dummies(df[column_name], prefix=prefix_name)\n",
    "    df = pd.concat([df, one_hot], axis=1)\n",
    "    df = df.drop(column_name, axis=1)\n",
    "    \n",
    "df.info()"
   ]
  },
  {
   "cell_type": "code",
   "execution_count": 18,
   "id": "8a770f8e",
   "metadata": {},
   "outputs": [
    {
     "data": {
      "text/html": [
       "<div>\n",
       "<style scoped>\n",
       "    .dataframe tbody tr th:only-of-type {\n",
       "        vertical-align: middle;\n",
       "    }\n",
       "\n",
       "    .dataframe tbody tr th {\n",
       "        vertical-align: top;\n",
       "    }\n",
       "\n",
       "    .dataframe thead th {\n",
       "        text-align: right;\n",
       "    }\n",
       "</style>\n",
       "<table border=\"1\" class=\"dataframe\">\n",
       "  <thead>\n",
       "    <tr style=\"text-align: right;\">\n",
       "      <th></th>\n",
       "      <th>year</th>\n",
       "      <th>mileage</th>\n",
       "      <th>price</th>\n",
       "      <th>price_in_thousands</th>\n",
       "      <th>make_Chevrolet</th>\n",
       "      <th>make_Ford</th>\n",
       "      <th>make_Honda</th>\n",
       "      <th>make_Nissan</th>\n",
       "      <th>make_Toyota</th>\n",
       "      <th>model_Accord</th>\n",
       "      <th>...</th>\n",
       "      <th>color_black</th>\n",
       "      <th>color_blue</th>\n",
       "      <th>color_red</th>\n",
       "      <th>color_silver</th>\n",
       "      <th>color_white</th>\n",
       "      <th>state_CA</th>\n",
       "      <th>state_FL</th>\n",
       "      <th>state_IL</th>\n",
       "      <th>state_NY</th>\n",
       "      <th>state_TX</th>\n",
       "    </tr>\n",
       "  </thead>\n",
       "  <tbody>\n",
       "    <tr>\n",
       "      <th>0</th>\n",
       "      <td>2011</td>\n",
       "      <td>99157</td>\n",
       "      <td>37488</td>\n",
       "      <td>37.488</td>\n",
       "      <td>1</td>\n",
       "      <td>0</td>\n",
       "      <td>0</td>\n",
       "      <td>0</td>\n",
       "      <td>0</td>\n",
       "      <td>0</td>\n",
       "      <td>...</td>\n",
       "      <td>0</td>\n",
       "      <td>0</td>\n",
       "      <td>0</td>\n",
       "      <td>0</td>\n",
       "      <td>1</td>\n",
       "      <td>0</td>\n",
       "      <td>0</td>\n",
       "      <td>0</td>\n",
       "      <td>0</td>\n",
       "      <td>1</td>\n",
       "    </tr>\n",
       "    <tr>\n",
       "      <th>1</th>\n",
       "      <td>2017</td>\n",
       "      <td>19882</td>\n",
       "      <td>34176</td>\n",
       "      <td>34.176</td>\n",
       "      <td>0</td>\n",
       "      <td>0</td>\n",
       "      <td>0</td>\n",
       "      <td>0</td>\n",
       "      <td>1</td>\n",
       "      <td>0</td>\n",
       "      <td>...</td>\n",
       "      <td>0</td>\n",
       "      <td>0</td>\n",
       "      <td>1</td>\n",
       "      <td>0</td>\n",
       "      <td>0</td>\n",
       "      <td>0</td>\n",
       "      <td>0</td>\n",
       "      <td>1</td>\n",
       "      <td>0</td>\n",
       "      <td>0</td>\n",
       "    </tr>\n",
       "    <tr>\n",
       "      <th>2</th>\n",
       "      <td>2011</td>\n",
       "      <td>77718</td>\n",
       "      <td>40297</td>\n",
       "      <td>40.297</td>\n",
       "      <td>1</td>\n",
       "      <td>0</td>\n",
       "      <td>0</td>\n",
       "      <td>0</td>\n",
       "      <td>0</td>\n",
       "      <td>0</td>\n",
       "      <td>...</td>\n",
       "      <td>0</td>\n",
       "      <td>1</td>\n",
       "      <td>0</td>\n",
       "      <td>0</td>\n",
       "      <td>0</td>\n",
       "      <td>1</td>\n",
       "      <td>0</td>\n",
       "      <td>0</td>\n",
       "      <td>0</td>\n",
       "      <td>0</td>\n",
       "    </tr>\n",
       "    <tr>\n",
       "      <th>3</th>\n",
       "      <td>2012</td>\n",
       "      <td>83613</td>\n",
       "      <td>43492</td>\n",
       "      <td>43.492</td>\n",
       "      <td>0</td>\n",
       "      <td>0</td>\n",
       "      <td>0</td>\n",
       "      <td>1</td>\n",
       "      <td>0</td>\n",
       "      <td>0</td>\n",
       "      <td>...</td>\n",
       "      <td>0</td>\n",
       "      <td>0</td>\n",
       "      <td>0</td>\n",
       "      <td>1</td>\n",
       "      <td>0</td>\n",
       "      <td>0</td>\n",
       "      <td>0</td>\n",
       "      <td>0</td>\n",
       "      <td>0</td>\n",
       "      <td>1</td>\n",
       "    </tr>\n",
       "    <tr>\n",
       "      <th>4</th>\n",
       "      <td>2016</td>\n",
       "      <td>95349</td>\n",
       "      <td>26655</td>\n",
       "      <td>26.655</td>\n",
       "      <td>0</td>\n",
       "      <td>1</td>\n",
       "      <td>0</td>\n",
       "      <td>0</td>\n",
       "      <td>0</td>\n",
       "      <td>0</td>\n",
       "      <td>...</td>\n",
       "      <td>0</td>\n",
       "      <td>0</td>\n",
       "      <td>1</td>\n",
       "      <td>0</td>\n",
       "      <td>0</td>\n",
       "      <td>0</td>\n",
       "      <td>0</td>\n",
       "      <td>0</td>\n",
       "      <td>1</td>\n",
       "      <td>0</td>\n",
       "    </tr>\n",
       "    <tr>\n",
       "      <th>...</th>\n",
       "      <td>...</td>\n",
       "      <td>...</td>\n",
       "      <td>...</td>\n",
       "      <td>...</td>\n",
       "      <td>...</td>\n",
       "      <td>...</td>\n",
       "      <td>...</td>\n",
       "      <td>...</td>\n",
       "      <td>...</td>\n",
       "      <td>...</td>\n",
       "      <td>...</td>\n",
       "      <td>...</td>\n",
       "      <td>...</td>\n",
       "      <td>...</td>\n",
       "      <td>...</td>\n",
       "      <td>...</td>\n",
       "      <td>...</td>\n",
       "      <td>...</td>\n",
       "      <td>...</td>\n",
       "      <td>...</td>\n",
       "      <td>...</td>\n",
       "    </tr>\n",
       "    <tr>\n",
       "      <th>9995</th>\n",
       "      <td>2017</td>\n",
       "      <td>25154</td>\n",
       "      <td>43139</td>\n",
       "      <td>43.139</td>\n",
       "      <td>0</td>\n",
       "      <td>0</td>\n",
       "      <td>1</td>\n",
       "      <td>0</td>\n",
       "      <td>0</td>\n",
       "      <td>0</td>\n",
       "      <td>...</td>\n",
       "      <td>0</td>\n",
       "      <td>0</td>\n",
       "      <td>1</td>\n",
       "      <td>0</td>\n",
       "      <td>0</td>\n",
       "      <td>0</td>\n",
       "      <td>1</td>\n",
       "      <td>0</td>\n",
       "      <td>0</td>\n",
       "      <td>0</td>\n",
       "    </tr>\n",
       "    <tr>\n",
       "      <th>9996</th>\n",
       "      <td>2017</td>\n",
       "      <td>68264</td>\n",
       "      <td>15632</td>\n",
       "      <td>15.632</td>\n",
       "      <td>1</td>\n",
       "      <td>0</td>\n",
       "      <td>0</td>\n",
       "      <td>0</td>\n",
       "      <td>0</td>\n",
       "      <td>1</td>\n",
       "      <td>...</td>\n",
       "      <td>0</td>\n",
       "      <td>0</td>\n",
       "      <td>0</td>\n",
       "      <td>0</td>\n",
       "      <td>1</td>\n",
       "      <td>0</td>\n",
       "      <td>0</td>\n",
       "      <td>0</td>\n",
       "      <td>0</td>\n",
       "      <td>1</td>\n",
       "    </tr>\n",
       "    <tr>\n",
       "      <th>9997</th>\n",
       "      <td>2016</td>\n",
       "      <td>17417</td>\n",
       "      <td>30832</td>\n",
       "      <td>30.832</td>\n",
       "      <td>0</td>\n",
       "      <td>0</td>\n",
       "      <td>0</td>\n",
       "      <td>1</td>\n",
       "      <td>0</td>\n",
       "      <td>0</td>\n",
       "      <td>...</td>\n",
       "      <td>0</td>\n",
       "      <td>0</td>\n",
       "      <td>0</td>\n",
       "      <td>1</td>\n",
       "      <td>0</td>\n",
       "      <td>0</td>\n",
       "      <td>0</td>\n",
       "      <td>1</td>\n",
       "      <td>0</td>\n",
       "      <td>0</td>\n",
       "    </tr>\n",
       "    <tr>\n",
       "      <th>9998</th>\n",
       "      <td>2011</td>\n",
       "      <td>68878</td>\n",
       "      <td>10801</td>\n",
       "      <td>10.801</td>\n",
       "      <td>0</td>\n",
       "      <td>0</td>\n",
       "      <td>1</td>\n",
       "      <td>0</td>\n",
       "      <td>0</td>\n",
       "      <td>1</td>\n",
       "      <td>...</td>\n",
       "      <td>0</td>\n",
       "      <td>1</td>\n",
       "      <td>0</td>\n",
       "      <td>0</td>\n",
       "      <td>0</td>\n",
       "      <td>0</td>\n",
       "      <td>0</td>\n",
       "      <td>0</td>\n",
       "      <td>0</td>\n",
       "      <td>1</td>\n",
       "    </tr>\n",
       "    <tr>\n",
       "      <th>9999</th>\n",
       "      <td>2010</td>\n",
       "      <td>99313</td>\n",
       "      <td>31827</td>\n",
       "      <td>31.827</td>\n",
       "      <td>1</td>\n",
       "      <td>0</td>\n",
       "      <td>0</td>\n",
       "      <td>0</td>\n",
       "      <td>0</td>\n",
       "      <td>0</td>\n",
       "      <td>...</td>\n",
       "      <td>1</td>\n",
       "      <td>0</td>\n",
       "      <td>0</td>\n",
       "      <td>0</td>\n",
       "      <td>0</td>\n",
       "      <td>1</td>\n",
       "      <td>0</td>\n",
       "      <td>0</td>\n",
       "      <td>0</td>\n",
       "      <td>0</td>\n",
       "    </tr>\n",
       "  </tbody>\n",
       "</table>\n",
       "<p>10000 rows × 24 columns</p>\n",
       "</div>"
      ],
      "text/plain": [
       "      year  mileage  price  price_in_thousands  make_Chevrolet  make_Ford  \\\n",
       "0     2011    99157  37488              37.488               1          0   \n",
       "1     2017    19882  34176              34.176               0          0   \n",
       "2     2011    77718  40297              40.297               1          0   \n",
       "3     2012    83613  43492              43.492               0          0   \n",
       "4     2016    95349  26655              26.655               0          1   \n",
       "...    ...      ...    ...                 ...             ...        ...   \n",
       "9995  2017    25154  43139              43.139               0          0   \n",
       "9996  2017    68264  15632              15.632               1          0   \n",
       "9997  2016    17417  30832              30.832               0          0   \n",
       "9998  2011    68878  10801              10.801               0          0   \n",
       "9999  2010    99313  31827              31.827               1          0   \n",
       "\n",
       "      make_Honda  make_Nissan  make_Toyota  model_Accord  ...  color_black  \\\n",
       "0              0            0            0             0  ...            0   \n",
       "1              0            0            1             0  ...            0   \n",
       "2              0            0            0             0  ...            0   \n",
       "3              0            1            0             0  ...            0   \n",
       "4              0            0            0             0  ...            0   \n",
       "...          ...          ...          ...           ...  ...          ...   \n",
       "9995           1            0            0             0  ...            0   \n",
       "9996           0            0            0             1  ...            0   \n",
       "9997           0            1            0             0  ...            0   \n",
       "9998           1            0            0             1  ...            0   \n",
       "9999           0            0            0             0  ...            1   \n",
       "\n",
       "      color_blue  color_red  color_silver  color_white  state_CA  state_FL  \\\n",
       "0              0          0             0            1         0         0   \n",
       "1              0          1             0            0         0         0   \n",
       "2              1          0             0            0         1         0   \n",
       "3              0          0             1            0         0         0   \n",
       "4              0          1             0            0         0         0   \n",
       "...          ...        ...           ...          ...       ...       ...   \n",
       "9995           0          1             0            0         0         1   \n",
       "9996           0          0             0            1         0         0   \n",
       "9997           0          0             1            0         0         0   \n",
       "9998           1          0             0            0         0         0   \n",
       "9999           0          0             0            0         1         0   \n",
       "\n",
       "      state_IL  state_NY  state_TX  \n",
       "0            0         0         1  \n",
       "1            1         0         0  \n",
       "2            0         0         0  \n",
       "3            0         0         1  \n",
       "4            0         1         0  \n",
       "...        ...       ...       ...  \n",
       "9995         0         0         0  \n",
       "9996         0         0         1  \n",
       "9997         1         0         0  \n",
       "9998         0         0         1  \n",
       "9999         0         0         0  \n",
       "\n",
       "[10000 rows x 24 columns]"
      ]
     },
     "execution_count": 18,
     "metadata": {},
     "output_type": "execute_result"
    }
   ],
   "source": [
    "df"
   ]
  },
  {
   "cell_type": "markdown",
   "id": "6938ff74",
   "metadata": {},
   "source": [
    "## Checking For outliers"
   ]
  },
  {
   "cell_type": "code",
   "execution_count": 19,
   "id": "4a057167",
   "metadata": {},
   "outputs": [
    {
     "data": {
      "text/plain": [
       "count    10000.000000\n",
       "mean     29376.222000\n",
       "std      11660.361084\n",
       "min      10022.000000\n",
       "25%      19071.250000\n",
       "50%      29418.500000\n",
       "75%      39133.500000\n",
       "max      49998.000000\n",
       "Name: price, dtype: float64"
      ]
     },
     "execution_count": 19,
     "metadata": {},
     "output_type": "execute_result"
    }
   ],
   "source": [
    "df['price'].describe()"
   ]
  },
  {
   "cell_type": "code",
   "execution_count": 20,
   "id": "fab0405b",
   "metadata": {},
   "outputs": [
    {
     "data": {
      "image/png": "[encoded data removed]",
      "text/plain": [
       "<Figure size 640x480 with 1 Axes>"
      ]
     },
     "metadata": {},
     "output_type": "display_data"
    }
   ],
   "source": [
    "plt.boxplot(df['price']);"
   ]
  },
  {
   "cell_type": "code",
   "execution_count": 21,
   "id": "98fdcb2c",
   "metadata": {},
   "outputs": [
    {
     "data": {
      "image/png": "[encoded data removed]",
      "text/plain": [
       "<Figure size 640x480 with 1 Axes>"
      ]
     },
     "metadata": {},
     "output_type": "display_data"
    }
   ],
   "source": [
    "plt.boxplot(df['mileage']);"
   ]
  },
  {
   "cell_type": "code",
   "execution_count": 22,
   "id": "1fee2e3e",
   "metadata": {},
   "outputs": [
    {
     "data": {
      "image/png": "[encoded data removed]",
      "text/plain": [
       "<Figure size 640x480 with 1 Axes>"
      ]
     },
     "metadata": {},
     "output_type": "display_data"
    }
   ],
   "source": [
    "plt.boxplot(df['year']);"
   ]
  },
  {
   "cell_type": "markdown",
   "id": "982db2c2",
   "metadata": {},
   "source": [
    "Since we cannot find any outliers in the data, we proceed to training of the algorithm "
   ]
  },
  {
   "cell_type": "markdown",
   "id": "b3a5e34b",
   "metadata": {},
   "source": [
    "## Preparing data for training"
   ]
  },
  {
   "cell_type": "code",
   "execution_count": 23,
   "id": "41cd0506",
   "metadata": {},
   "outputs": [
    {
     "data": {
      "text/plain": [
       "((8000, 23), (2000, 23), (8000,), (2000,))"
      ]
     },
     "execution_count": 23,
     "metadata": {},
     "output_type": "execute_result"
    }
   ],
   "source": [
    "from sklearn.model_selection import train_test_split\n",
    "\n",
    "X = df.drop('price_in_thousands', axis=1)\n",
    "y = df['price_in_thousands']\n",
    "\n",
    "X_train, X_test, y_train, y_test = train_test_split(X, y, test_size=0.2, shuffle=True)\n",
    "\n",
    "X_train.shape, X_test.shape, y_train.shape, y_test.shape"
   ]
  },
  {
   "cell_type": "code",
   "execution_count": 24,
   "id": "0bcd1ef0",
   "metadata": {},
   "outputs": [],
   "source": [
    "model_scores = {}"
   ]
  },
  {
   "cell_type": "markdown",
   "id": "2976ee7a",
   "metadata": {},
   "source": [
    "### Random Forest Regressor"
   ]
  },
  {
   "cell_type": "code",
   "execution_count": 25,
   "id": "154e9d8d",
   "metadata": {},
   "outputs": [],
   "source": [
    "from sklearn.ensemble import RandomForestRegressor\n",
    "model_rfr = RandomForestRegressor()\n",
    "model_rfr.fit(X_train, y_train)\n",
    "y_preds = model_rfr.predict(X_test)"
   ]
  },
  {
   "cell_type": "code",
   "execution_count": 26,
   "id": "53ab9c18",
   "metadata": {},
   "outputs": [],
   "source": [
    "from sklearn.metrics import r2_score, mean_squared_error\n",
    "r2_rfr = r2_score(y_test, y_preds)\n",
    "mse_rfr = mean_squared_error(y_test, y_preds)"
   ]
  },
  {
   "cell_type": "code",
   "execution_count": 27,
   "id": "cc543ff8",
   "metadata": {},
   "outputs": [
    {
     "name": "stdout",
     "output_type": "stream",
     "text": [
      "0.9999999991192049\n",
      "1.2397429999814174e-07\n"
     ]
    }
   ],
   "source": [
    "print(r2_rfr)\n",
    "print(mse_rfr)"
   ]
  },
  {
   "cell_type": "code",
   "execution_count": 28,
   "id": "9c27f97d",
   "metadata": {},
   "outputs": [],
   "source": [
    "model_scores[\"Random Forest Regressor\"] = {\"R2 Score\": r2_rfr, \"MSE\": mse_rfr}"
   ]
  },
  {
   "cell_type": "code",
   "execution_count": 29,
   "id": "8eb65c93",
   "metadata": {},
   "outputs": [
    {
     "data": {
      "text/plain": [
       "{'Random Forest Regressor': {'R2 Score': 0.9999999991192049,\n",
       "  'MSE': 1.2397429999814174e-07}}"
      ]
     },
     "execution_count": 29,
     "metadata": {},
     "output_type": "execute_result"
    }
   ],
   "source": [
    "model_scores"
   ]
  },
  {
   "cell_type": "markdown",
   "id": "19e2c6bc",
   "metadata": {},
   "source": [
    "### Decision Tree Regressor"
   ]
  },
  {
   "cell_type": "code",
   "execution_count": 30,
   "id": "ce5df491",
   "metadata": {},
   "outputs": [],
   "source": [
    "from sklearn.tree import DecisionTreeRegressor\n",
    "model_dtr = DecisionTreeRegressor()\n",
    "model_dtr.fit(X_train, y_train)\n",
    "y_preds = model_dtr.predict(X_test)"
   ]
  },
  {
   "cell_type": "code",
   "execution_count": 31,
   "id": "5fc1bbda",
   "metadata": {},
   "outputs": [],
   "source": [
    "r2_dtr = r2_score(y_test, y_preds)\n",
    "mse_dtr = mean_squared_error(y_test, y_preds)"
   ]
  },
  {
   "cell_type": "code",
   "execution_count": 32,
   "id": "b320c9cb",
   "metadata": {},
   "outputs": [
    {
     "name": "stdout",
     "output_type": "stream",
     "text": [
      "1.0\n",
      "1.0371943181845863e-29\n"
     ]
    }
   ],
   "source": [
    "print(r2_dtr)\n",
    "print(mse_dtr)"
   ]
  },
  {
   "cell_type": "code",
   "execution_count": 42,
   "id": "6c6ec526",
   "metadata": {},
   "outputs": [
    {
     "data": {
      "text/plain": [
       "{'Random Forest Regressor': {'R2 Score': 0.9999999991192049,\n",
       "  'MSE': 1.2397429999814174e-07},\n",
       " 'Decision Tree Regressor': {'R2 Score': 1.0, 'MSE': 1.0371943181845863e-29},\n",
       " 'Support Vector Machine': {'R2 Score': 0.9999750678433025,\n",
       "  'MSE': 0.0035092688346540515}}"
      ]
     },
     "execution_count": 42,
     "metadata": {},
     "output_type": "execute_result"
    }
   ],
   "source": [
    "model_scores[\"Decision Tree Regressor\"] = {\"R2 Score\": r2_dtr, \"MSE\": mse_dtr}\n",
    "model_scores"
   ]
  },
  {
   "cell_type": "markdown",
   "id": "d4086e2f",
   "metadata": {},
   "source": [
    "### SVR"
   ]
  },
  {
   "cell_type": "code",
   "execution_count": 34,
   "id": "01732fad",
   "metadata": {},
   "outputs": [],
   "source": [
    "from sklearn.svm import SVR\n",
    "model_svr = SVR(kernel='linear')\n",
    "model_svr.fit(X_train, y_train)\n",
    "y_preds = model_svr.predict(X_test)"
   ]
  },
  {
   "cell_type": "code",
   "execution_count": 35,
   "id": "3c4c9190",
   "metadata": {},
   "outputs": [],
   "source": [
    "r2_svr = r2_score(y_test, y_preds)\n",
    "mse_svr = mean_squared_error(y_test, y_preds)"
   ]
  },
  {
   "cell_type": "code",
   "execution_count": 36,
   "id": "e880ea90",
   "metadata": {},
   "outputs": [
    {
     "name": "stdout",
     "output_type": "stream",
     "text": [
      "0.9999750678433025\n",
      "0.0035092688346540515\n"
     ]
    }
   ],
   "source": [
    "print(r2_svr)\n",
    "print(mse_svr)"
   ]
  },
  {
   "cell_type": "code",
   "execution_count": 37,
   "id": "a96714c7",
   "metadata": {},
   "outputs": [],
   "source": [
    "model_scores[\"Support Vector Machine\"] = {\"R2 Score\": r2_svr, \"MSE\": mse_svr}"
   ]
  },
  {
   "cell_type": "markdown",
   "id": "ee78eea5",
   "metadata": {},
   "source": [
    "### Ridge"
   ]
  },
  {
   "cell_type": "code",
   "execution_count": 38,
   "id": "bed11c28",
   "metadata": {},
   "outputs": [],
   "source": [
    "from sklearn.linear_model import Ridge\n",
    "model_ridge = Ridge()\n",
    "model_ridge.fit(X_train, y_train)\n",
    "y_preds = model_ridge.predict(X_test)"
   ]
  },
  {
   "cell_type": "code",
   "execution_count": 39,
   "id": "8b701f89",
   "metadata": {},
   "outputs": [],
   "source": [
    "r2_ridge = r2_score(y_test, y_preds)\n",
    "mse_ridge = mean_squared_error(y_test, y_preds)"
   ]
  },
  {
   "cell_type": "code",
   "execution_count": 40,
   "id": "15f0668e",
   "metadata": {},
   "outputs": [
    {
     "name": "stdout",
     "output_type": "stream",
     "text": [
      "1.0\n",
      "1.2373414688224045e-22\n"
     ]
    }
   ],
   "source": [
    "print(r2_ridge)\n",
    "print(mse_ridge)"
   ]
  },
  {
   "cell_type": "code",
   "execution_count": 43,
   "id": "8efff187",
   "metadata": {},
   "outputs": [
    {
     "data": {
      "text/plain": [
       "{'Random Forest Regressor': {'R2 Score': 0.9999999991192049,\n",
       "  'MSE': 1.2397429999814174e-07},\n",
       " 'Decision Tree Regressor': {'R2 Score': 1.0, 'MSE': 1.0371943181845863e-29},\n",
       " 'Support Vector Machine': {'R2 Score': 0.9999750678433025,\n",
       "  'MSE': 0.0035092688346540515},\n",
       " 'Ridge': {'R2 Score': 1.0, 'MSE': 1.2373414688224045e-22}}"
      ]
     },
     "execution_count": 43,
     "metadata": {},
     "output_type": "execute_result"
    }
   ],
   "source": [
    "model_scores[\"Ridge\"] = {\"R2 Score\": r2_ridge, \"MSE\": mse_ridge}\n",
    "model_scores"
   ]
  },
  {
   "cell_type": "markdown",
   "id": "84dcf7de",
   "metadata": {},
   "source": [
    "### Lasso"
   ]
  },
  {
   "cell_type": "code",
   "execution_count": null,
   "id": "18913eba",
   "metadata": {},
   "outputs": [],
   "source": [
    "from sklearn.linear_model import Lasso\n",
    "model_lasso = Lasso()\n",
    "model_lasso.fit(X_train, y_train)\n",
    "y_preds = model_Gauss.predict(X_test)"
   ]
  },
  {
   "cell_type": "code",
   "execution_count": 45,
   "id": "20af7c45",
   "metadata": {},
   "outputs": [
    {
     "name": "stdout",
     "output_type": "stream",
     "text": [
      "1.0\n",
      "1.2373414688224045e-22\n"
     ]
    }
   ],
   "source": [
    "r2_lasso = r2_score(y_test, y_preds)\n",
    "mse_lasso = mean_squared_error(y_test, y_preds)\n",
    "print(r2_lasso)\n",
    "print(mse_lasso)"
   ]
  },
  {
   "cell_type": "code",
   "execution_count": 46,
   "id": "513114ef",
   "metadata": {},
   "outputs": [],
   "source": [
    "model_scores[\"Lasso\"] = {\"R2 Score\": r2_lasso, \"MSE\": mse_lasso}"
   ]
  },
  {
   "cell_type": "code",
   "execution_count": 47,
   "id": "22f525c1",
   "metadata": {},
   "outputs": [
    {
     "data": {
      "text/plain": [
       "{'Random Forest Regressor': {'R2 Score': 0.9999999991192049,\n",
       "  'MSE': 1.2397429999814174e-07},\n",
       " 'Decision Tree Regressor': {'R2 Score': 1.0, 'MSE': 1.0371943181845863e-29},\n",
       " 'Support Vector Machine': {'R2 Score': 0.9999750678433025,\n",
       "  'MSE': 0.0035092688346540515},\n",
       " 'Ridge': {'R2 Score': 1.0, 'MSE': 1.2373414688224045e-22},\n",
       " 'Lasso': {'R2 Score': 1.0, 'MSE': 1.2373414688224045e-22}}"
      ]
     },
     "execution_count": 47,
     "metadata": {},
     "output_type": "execute_result"
    }
   ],
   "source": [
    "model_scores"
   ]
  },
  {
   "cell_type": "code",
   "execution_count": 48,
   "id": "59e148cf",
   "metadata": {},
   "outputs": [],
   "source": [
    "scores_dataframe = pd.DataFrame(model_scores)"
   ]
  },
  {
   "cell_type": "code",
   "execution_count": 49,
   "id": "29fa15bc",
   "metadata": {},
   "outputs": [
    {
     "data": {
      "text/html": [
       "<div>\n",
       "<style scoped>\n",
       "    .dataframe tbody tr th:only-of-type {\n",
       "        vertical-align: middle;\n",
       "    }\n",
       "\n",
       "    .dataframe tbody tr th {\n",
       "        vertical-align: top;\n",
       "    }\n",
       "\n",
       "    .dataframe thead th {\n",
       "        text-align: right;\n",
       "    }\n",
       "</style>\n",
       "<table border=\"1\" class=\"dataframe\">\n",
       "  <thead>\n",
       "    <tr style=\"text-align: right;\">\n",
       "      <th></th>\n",
       "      <th>Random Forest Regressor</th>\n",
       "      <th>Decision Tree Regressor</th>\n",
       "      <th>Support Vector Machine</th>\n",
       "      <th>Ridge</th>\n",
       "      <th>Lasso</th>\n",
       "    </tr>\n",
       "  </thead>\n",
       "  <tbody>\n",
       "    <tr>\n",
       "      <th>R2 Score</th>\n",
       "      <td>1.000000e+00</td>\n",
       "      <td>1.000000e+00</td>\n",
       "      <td>0.999975</td>\n",
       "      <td>1.000000e+00</td>\n",
       "      <td>1.000000e+00</td>\n",
       "    </tr>\n",
       "    <tr>\n",
       "      <th>MSE</th>\n",
       "      <td>1.239743e-07</td>\n",
       "      <td>1.037194e-29</td>\n",
       "      <td>0.003509</td>\n",
       "      <td>1.237341e-22</td>\n",
       "      <td>1.237341e-22</td>\n",
       "    </tr>\n",
       "  </tbody>\n",
       "</table>\n",
       "</div>"
      ],
      "text/plain": [
       "          Random Forest Regressor  Decision Tree Regressor  \\\n",
       "R2 Score             1.000000e+00             1.000000e+00   \n",
       "MSE                  1.239743e-07             1.037194e-29   \n",
       "\n",
       "          Support Vector Machine         Ridge         Lasso  \n",
       "R2 Score                0.999975  1.000000e+00  1.000000e+00  \n",
       "MSE                     0.003509  1.237341e-22  1.237341e-22  "
      ]
     },
     "execution_count": 49,
     "metadata": {},
     "output_type": "execute_result"
    }
   ],
   "source": [
    "scores_dataframe"
   ]
  },
  {
   "cell_type": "code",
   "execution_count": 51,
   "id": "7e4778e3",
   "metadata": {
    "scrolled": true
   },
   "outputs": [
    {
     "data": {
      "text/plain": [
       "{'Random Forest': 99.99999991192048,\n",
       " 'Decision Tree': 100.0,\n",
       " 'SVR': 99.99750678433024,\n",
       " 'Ridge': 100.0,\n",
       " 'Lasso': 100.0}"
      ]
     },
     "execution_count": 51,
     "metadata": {},
     "output_type": "execute_result"
    }
   ],
   "source": [
    "model_percentage={\n",
    "    \"Random Forest\" : r2_rfr*100,\n",
    "    \"Decision Tree\" : r2_dtr*100,\n",
    "    \"SVR\" : r2_svr*100,\n",
    "    \"Ridge\" : r2_ridge*100,\n",
    "    \"Lasso\" : r2_lasso*100\n",
    "}\n",
    "model_percentage"
   ]
  },
  {
   "cell_type": "code",
   "execution_count": 52,
   "id": "9fa97486",
   "metadata": {},
   "outputs": [
    {
     "data": {
      "image/png": "[encoded data removed]",
      "text/plain": [
       "<Figure size 1500x500 with 1 Axes>"
      ]
     },
     "metadata": {},
     "output_type": "display_data"
    }
   ],
   "source": [
    "model_compare = pd.DataFrame(model_percentage, index=[\"accuracy\"])\n",
    "fig, ax = plt.subplots(figsize=(15, 5))\n",
    "ax.bar(model_compare.columns, model_compare.iloc[0], color=\"#95cfe6\")\n",
    "plt.xlabel(\"Model Names\")\n",
    "plt.ylabel(\"Score\")\n",
    "plt.xticks(rotation=0)\n",
    "plt.title(\"Model Comparison\");"
   ]
  }
 ],
 "metadata": {
  "kernelspec": {
   "display_name": "Python 3 (ipykernel)",
   "language": "python",
   "name": "python3"
  },
  "language_info": {
   "codemirror_mode": {
    "name": "ipython",
    "version": 3
   },
   "file_extension": ".py",
   "mimetype": "text/x-python",
   "name": "python",
   "nbconvert_exporter": "python",
   "pygments_lexer": "ipython3",
   "version": "3.9.13"
  }
 },
 "nbformat": 4,
 "nbformat_minor": 5
}
